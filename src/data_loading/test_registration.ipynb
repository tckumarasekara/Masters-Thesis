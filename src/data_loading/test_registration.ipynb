{
 "cells": [
  {
   "cell_type": "markdown",
   "id": "2a305a3e",
   "metadata": {},
   "source": [
    "Importing packages"
   ]
  },
  {
   "cell_type": "code",
   "execution_count": 8,
   "id": "359c0c27",
   "metadata": {},
   "outputs": [],
   "source": [
    "from data_loader import load_HnE_image\n",
    "\n",
    "import os"
   ]
  },
  {
   "cell_type": "markdown",
   "id": "d25d3a0a",
   "metadata": {},
   "source": [
    "Loading HnE images"
   ]
  },
  {
   "cell_type": "code",
   "execution_count": 10,
   "id": "805bba08",
   "metadata": {},
   "outputs": [
    {
     "ename": "MemoryError",
     "evalue": "Unable to allocate 2.00 MiB for an array with shape (4, 256, 256) and data type float64",
     "output_type": "error",
     "traceback": [
      "\u001b[31m---------------------------------------------------------------------------\u001b[39m",
      "\u001b[31mMemoryError\u001b[39m                               Traceback (most recent call last)",
      "\u001b[36mCell\u001b[39m\u001b[36m \u001b[39m\u001b[32mIn[10]\u001b[39m\u001b[32m, line 3\u001b[39m\n\u001b[32m      1\u001b[39m folder_path = \u001b[33m\"\u001b[39m\u001b[33m../../../Thesis_Data/OME-TIFFs\u001b[39m\u001b[33m\"\u001b[39m\n\u001b[32m----> \u001b[39m\u001b[32m3\u001b[39m img_data, label_data = \u001b[43mload_HnE_image\u001b[49m\u001b[43m(\u001b[49m\u001b[43mfolder_path\u001b[49m\u001b[43m)\u001b[49m\n",
      "\u001b[36mFile \u001b[39m\u001b[32md:\\Masters_Medical_Informatics_Larger_Files\\Thesis\\Working_Folder\\Masters-Thesis\\src\\data_loading\\data_loader.py:16\u001b[39m, in \u001b[36mload_HnE_image\u001b[39m\u001b[34m(folder_path)\u001b[39m\n\u001b[32m     14\u001b[39m img_raw = imread(image_path)\n\u001b[32m     15\u001b[39m img = np.array(img_raw)[\u001b[32m0\u001b[39m:\u001b[32m3\u001b[39m, :, :]\n\u001b[32m---> \u001b[39m\u001b[32m16\u001b[39m label = np.array(img_raw)[\u001b[32m3\u001b[39m, :, :]\n\u001b[32m     18\u001b[39m img_data.append(img)\n\u001b[32m     19\u001b[39m label_data.append(label)\n",
      "\u001b[31mMemoryError\u001b[39m: Unable to allocate 2.00 MiB for an array with shape (4, 256, 256) and data type float64"
     ]
    }
   ],
   "source": [
    "folder_path = \"../../../Thesis_Data/OME-TIFFs\"\n",
    "\n",
    "img_data, label_data = load_HnE_image(folder_path)"
   ]
  }
 ],
 "metadata": {
  "kernelspec": {
   "display_name": "thesis-seg",
   "language": "python",
   "name": "python3"
  },
  "language_info": {
   "codemirror_mode": {
    "name": "ipython",
    "version": 3
   },
   "file_extension": ".py",
   "mimetype": "text/x-python",
   "name": "python",
   "nbconvert_exporter": "python",
   "pygments_lexer": "ipython3",
   "version": "3.11.13"
  }
 },
 "nbformat": 4,
 "nbformat_minor": 5
}
